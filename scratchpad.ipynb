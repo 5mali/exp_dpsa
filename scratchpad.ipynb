{
 "cells": [
  {
   "cell_type": "code",
   "execution_count": 2,
   "metadata": {},
   "outputs": [],
   "source": [
    "import numpy as np\n",
    "import matplotlib.pyplot as plt"
   ]
  },
  {
   "cell_type": "code",
   "execution_count": null,
   "metadata": {},
   "outputs": [],
   "source": [
    "ep_rec = []\n",
    "for day in range(180):\n",
    "    e_slope = 0.1/20\n",
    "    e_start = 0.1\n",
    "    sc_EPSILON = np.clip(e_start + e_slope*day,0.1,0.99)\n",
    "    ep_rec.append(sc_EPSILON)\n",
    "\n",
    "plt.plot(ep_rec)"
   ]
  },
  {
   "cell_type": "code",
   "execution_count": 27,
   "metadata": {},
   "outputs": [
    {
     "data": {
      "text/plain": [
       "(0, 1)"
      ]
     },
     "execution_count": 27,
     "metadata": {},
     "output_type": "execute_result"
    },
    {
     "data": {
      "image/png": "[encoded data removed]",
      "text/plain": [
       "<Figure size 432x288 with 1 Axes>"
      ]
     },
     "metadata": {},
     "output_type": "display_data"
    }
   ],
   "source": [
    "oldr = []\n",
    "r = []\n",
    "a = 80\n",
    "for x in range(365):\n",
    "    r.append(0.1 + x/(x+a))\n",
    "    oldr.append(0.1+x*0.1/20)\n",
    "plt.plot(r)\n",
    "plt.plot(oldr)\n",
    "plt.ylim([0,1])"
   ]
  },
  {
   "cell_type": "code",
   "execution_count": 17,
   "metadata": {},
   "outputs": [
    {
     "data": {
      "text/plain": [
       "0.9479166666666666"
      ]
     },
     "execution_count": 17,
     "metadata": {},
     "output_type": "execute_result"
    }
   ],
   "source": [
    "r[-1]"
   ]
  },
  {
   "cell_type": "code",
   "execution_count": 5,
   "metadata": {},
   "outputs": [],
   "source": [
    "ep_rec = []\n",
    "for day in range(180):\n",
    "    e_slope = 0.1/20\n",
    "    e_start = 0.1\n",
    "    sc_EPSILON = np.clip(e_start + e_slope*day,0.1,0.99)\n",
    "    ep_rec.append(sc_EPSILON)\n",
    "\n",
    "plt.plot(ep_rec)"
   ]
  }
 ],
 "metadata": {
  "kernelspec": {
   "display_name": "Python 3",
   "language": "python",
   "name": "python3"
  },
  "language_info": {
   "codemirror_mode": {
    "name": "ipython",
    "version": 3
   },
   "file_extension": ".py",
   "mimetype": "text/x-python",
   "name": "python",
   "nbconvert_exporter": "python",
   "pygments_lexer": "ipython3",
   "version": "3.6.3"
  }
 },
 "nbformat": 4,
 "nbformat_minor": 2
}
